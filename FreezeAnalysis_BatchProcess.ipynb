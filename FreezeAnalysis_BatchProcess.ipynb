{
 "cells": [
  {
   "cell_type": "markdown",
   "metadata": {},
   "source": [
    "# Instructions\n",
    "The following code was designed in order to load in and score motion/freezing data from video files. This code should be run with carefully selected parameters using the more extensive visualization options provided in FreezeAnalyis.ipynb.  In addition to saving frame by frame motion/freezing information for each video in separate csv files, bins can also be defined for summarizing videos (e.g. minute by minute).  All summary information will be saved in a single file.  If no bins are defined, the code will automatically create a summary file that lists average session motion/freezing per video.\n",
    "\n",
    "### Package Requirements\n",
    "Please see instructions under repository README for package requirements and install instructions."
   ]
  },
  {
   "cell_type": "markdown",
   "metadata": {},
   "source": [
    "---\n",
    "# 1. Load Necessary Packages"
   ]
  },
  {
   "cell_type": "code",
   "execution_count": null,
   "metadata": {},
   "outputs": [],
   "source": [
    "%load_ext autoreload\n",
    "%autoreload 2\n",
    "import numpy as np\n",
    "import matplotlib.pyplot as plt\n",
    "import pandas as pd\n",
    "import FreezeAnalysis_Functions as fz"
   ]
  },
  {
   "cell_type": "markdown",
   "metadata": {},
   "source": [
    "---\n",
    "# 2. User Sets Directory and Parameters for Motion/Freeze Analysis\n",
    "Note that all videos of particular type will be analyzed.  Videos should be of the same length if user is defining bins.  Videos should be the same fps and the same width/height.\n",
    "***Windows Users:*** Place an 'r' in front directory path (e.g. r\"zp\\Videos\") to avoid mishandling of forward slashes."
   ]
  },
  {
   "cell_type": "code",
   "execution_count": null,
   "metadata": {},
   "outputs": [],
   "source": [
    "#Video information\n",
    "video_dict = {\n",
    "    'dpath' : \"/Users/zachpennington/Desktop/Videos\", # directory containing files\n",
    "    'fps' : 30, #frames per second of video files\n",
    "    'ftype' : 'wmv', #file type.\n",
    "    'start' : 0, #frame at which to start. 0-based\n",
    "    'end' : None #frame at which to end.  set to None if processing whole video.\n",
    "}\n",
    "\n",
    "\n",
    "#set bin_dict \n",
    "#set bin_dict = None if only overall session average is desired\n",
    "bin_dict = {\n",
    "    1: (0,60),\n",
    "    2: (60,120),\n",
    "    3: (120,180)\n",
    "}\n",
    "\n",
    "#Motion/Freezing parameters\n",
    "ycrop = 150 #cropping of video frame\n",
    "mt_cutoff = 10.3 #Motion cutoff\n",
    "FreezeThresh = 188 #Upper bound for freezing, in frame-by-frame pixels changed\n",
    "MinDuration = 15 #Number of frames motion must be below threshold to begin accruing freezing"
   ]
  },
  {
   "cell_type": "markdown",
   "metadata": {},
   "source": [
    "---\n",
    "# 3. Analyze Videos\n",
    "The code below will loop through all files of the specified type in the specified folder and analyzed them as desired.  The first 5 rows of the resulting file will be displayed."
   ]
  },
  {
   "cell_type": "code",
   "execution_count": null,
   "metadata": {},
   "outputs": [],
   "source": [
    "summary = fz.Batch(video_dict,bin_dict,ycrop,mt_cutoff,FreezeThresh,MinDuration,SIGMA=1)\n",
    "summary.head()"
   ]
  }
 ],
 "metadata": {
  "kernelspec": {
   "display_name": "Python 3",
   "language": "python",
   "name": "python3"
  },
  "language_info": {
   "codemirror_mode": {
    "name": "ipython",
    "version": 3
   },
   "file_extension": ".py",
   "mimetype": "text/x-python",
   "name": "python",
   "nbconvert_exporter": "python",
   "pygments_lexer": "ipython3",
   "version": "3.6.5"
  }
 },
 "nbformat": 4,
 "nbformat_minor": 2
}
