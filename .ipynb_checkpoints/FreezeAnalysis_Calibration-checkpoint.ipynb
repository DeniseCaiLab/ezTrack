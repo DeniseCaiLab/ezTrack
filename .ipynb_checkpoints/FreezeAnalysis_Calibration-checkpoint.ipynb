{
 "cells": [
  {
   "cell_type": "markdown",
   "metadata": {},
   "source": [
    "# Instructions\n",
    "The following code was designed to be used in conjunction with FreezeAnalysis_Individual.ipynb and FreezeAnalysis_BatchProcess.ipynb in order to set the motion threshold parameter.  By examining basal fluctuation in pixel intensities in a video where no animal is present, it is possible to set a threshold for detecting pixel change values that are attributable to animal motion, as oppposed to low-level fluctuation that occurs with no animal present.  Videos must be loaded in which no animal is present in the environment.  If multiple contexts are to be used, and freezing is to be compared across them, it is best to eventually use the same motion threshold across contexts, either taking the average of the various contexts or taking the maxiumum. \n",
    "\n",
    "### Package Requirements\n",
    "Please see instructions under repository README for package requirements and install instructions."
   ]
  },
  {
   "cell_type": "markdown",
   "metadata": {},
   "source": [
    "---\n",
    "# 1. Load Necessary Packages\n",
    "The following code loads neccessary packages and need not be changed by the user."
   ]
  },
  {
   "cell_type": "code",
   "execution_count": null,
   "metadata": {},
   "outputs": [],
   "source": [
    "%load_ext autoreload\n",
    "%autoreload 2\n",
    "import numpy as np\n",
    "import matplotlib.pyplot as plt\n",
    "import FreezeAnalysis_Functions as fz\n",
    "import os"
   ]
  },
  {
   "cell_type": "markdown",
   "metadata": {},
   "source": [
    "---\n",
    "# 2. User Sets Directory and File Information\n",
    "***Windows Users:*** Place an 'r' in front directory path (e.g. r\"zp\\Videos\") to avoid mishandling of forward slashes."
   ]
  },
  {
   "cell_type": "code",
   "execution_count": null,
   "metadata": {},
   "outputs": [],
   "source": [
    "video_dict = {\n",
    "    'dpath' : \"/Users/me/Videos\", # directory containing file\n",
    "    'file' : \"Calibration.wmv\", #filename with extension\n",
    "    'fps' : 30, #frames per second\n",
    "    'cal_sec' : 10, #number of seconds in video to calibrate based upon\n",
    "}"
   ]
  },
  {
   "cell_type": "markdown",
   "metadata": {},
   "source": [
    "---\n",
    "# 3. Load Video Information.  Display First Frame\n",
    "The following code loads pertinent video information and presents tthe first frame of the video.  If the size of the image is too small/large, alter the first line of code.  100 is the standard size.  200 will produce an image 2x the size, and so on."
   ]
  },
  {
   "cell_type": "code",
   "execution_count": null,
   "metadata": {},
   "outputs": [],
   "source": [
    "%%output size=100\n",
    "#Select output size if image is too small/large.  Code above must be first line in cell and dictates overall size\n",
    "#of image, where 100 is standard.  \n",
    "\n",
    "#Get full path and first frame\n",
    "image,crop,video_dict = fz.LoadAndCrop(video_dict)\n",
    "image"
   ]
  },
  {
   "cell_type": "markdown",
   "metadata": {},
   "source": [
    "---\n",
    "# 4. Calibrate Video \n",
    "The following code will select a random set of pixels ('cal_pix: 10000', by default) and looks at how their grayscale intensity changes across the specified length of the video.  By looking at the distribution of frame-by-frame change values for each pixel, a threshold is then set for determining what changes are likely to be attributable to the animal moving versus random fluctuation.  Currently, cutoff is is set to twice the 99.99 percentile.   A plot of grayscale change values is also provided.  Zooming tools to the right of plot can be used to more closely examine low-frequency changes."
   ]
  },
  {
   "cell_type": "code",
   "execution_count": null,
   "metadata": {},
   "outputs": [],
   "source": [
    "%%output size=100\n",
    "hist = fz.Calibrate(video_dict,cal_pix=10000,SIGMA=1)\n",
    "hist"
   ]
  }
 ],
 "metadata": {
  "kernelspec": {
   "display_name": "Python 3",
   "language": "python",
   "name": "python3"
  },
  "language_info": {
   "codemirror_mode": {
    "name": "ipython",
    "version": 3
   },
   "file_extension": ".py",
   "mimetype": "text/x-python",
   "name": "python",
   "nbconvert_exporter": "python",
   "pygments_lexer": "ipython3",
   "version": "3.6.7"
  }
 },
 "nbformat": 4,
 "nbformat_minor": 2
}
