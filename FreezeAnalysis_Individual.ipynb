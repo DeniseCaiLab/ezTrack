{
 "cells": [
  {
   "cell_type": "markdown",
   "metadata": {},
   "source": [
    "# Instructions\n",
    "The following code was designed in order to load in and score motion/freezing data for a single video file. It allows for cropping of the video frame to reduce the influence of miniscope/optogenetic cables.  After initally loading in the video, the user is able to crop the video using a box selection tool.  Motion is then detected by capturing the number of pixels whose frame by frame grayscale change value exceeds a threshold (determined using FreezeAnalysis_Calibration.ipynb).  Freezing is then assessed by calculating when motion drops below a user-defined threshold.  The user is able to visualize raw video, animal motion, and whether an animal is deemed to be freezing in order optimize parameters.  Final output is a csv which provides frame by frame motion and freezing across the session.  Additionally, a summary file can be generated which allows the user to get motion/freezing for specified time bins.  With the exception of setting the file path and small number of parameters (ie frames per second in video, freezing threshold), the user can run through code.  Once parameters are found that work well, batch processing of multiple videos can be performed using FreezeAnalysis_BatchProcess.ipynb."
   ]
  },
  {
   "cell_type": "markdown",
   "metadata": {},
   "source": [
    "---\n",
    "# 1. Load Necessary Packages\n",
    "The following code loads neccessary packages and need not be changed by the user."
   ]
  },
  {
   "cell_type": "code",
   "execution_count": null,
   "metadata": {},
   "outputs": [],
   "source": [
    "%load_ext autoreload\n",
    "%autoreload 2\n",
    "import os\n",
    "import numpy as np\n",
    "import matplotlib.pyplot as plt\n",
    "import pandas as pd\n",
    "import holoviews as hv\n",
    "import FreezeAnalysis_Functions as fz"
   ]
  },
  {
   "cell_type": "markdown",
   "metadata": {},
   "source": [
    "---\n",
    "# 2. User Sets Directory and File Information\n",
    "Below the user sets the directory file path (path of the folder where the video file is), the file name of the video to be analyzed (including the extension), the frame rate of the video, the frame on which the analysis is to begin (0 is the first frame), and the last frame to be analyzed (set `'end' : None` if processing entire video). Additionally, by modifying 'stretch', one can alter the relative width/height of the presented output.\n",
    "\n",
    "***Windows Users:*** Place an 'r' in front directory path (e.g. r\"zp\\Videos\") to avoid mishandling of forward slashes."
   ]
  },
  {
   "cell_type": "code",
   "execution_count": null,
   "metadata": {},
   "outputs": [],
   "source": [
    "video_dict = {\n",
    "    'dpath' : \"/Users/me/Videos\", \n",
    "    'file' : \"video.mp4\", \n",
    "    'fps' : 30, \n",
    "    'start' : 0, \n",
    "    'end' : None \n",
    "}\n",
    "stretch = dict(width = 1, height = 1)"
   ]
  },
  {
   "cell_type": "markdown",
   "metadata": {},
   "source": [
    "---\n",
    "# 3. Load Video and Crop Frame if Desired\n",
    "To crop video frame, after running code below, select box selection tool below image (square with a plus sign).  To start drawing region to be included in analyis, double click image.  Double click again to finalize region.  If you decide to change region, it is best to rerun this cell and subsequent steps.\n",
    "\n",
    "If the size of the image is too small/large, alter the first line of code.  100 is the standard size.  200 will produce an image 2x the size, and so on."
   ]
  },
  {
   "cell_type": "code",
   "execution_count": null,
   "metadata": {},
   "outputs": [],
   "source": [
    "%%output size=100\n",
    "\n",
    "image,crop,video_dict=fz.LoadAndCrop(video_dict,stretch,cropmethod=\"Box\")\n",
    "image"
   ]
  },
  {
   "cell_type": "markdown",
   "metadata": {},
   "source": [
    "---\n",
    "# 4. Analyze Motion Across Session"
   ]
  },
  {
   "cell_type": "markdown",
   "metadata": {},
   "source": [
    "### 4a. User Sets Parameters for Motion Analysis\n",
    "Below, user setes grayscale difference value required for pixel to be counted as changing"
   ]
  },
  {
   "cell_type": "code",
   "execution_count": null,
   "metadata": {},
   "outputs": [],
   "source": [
    "mt_cutoff = 10"
   ]
  },
  {
   "cell_type": "markdown",
   "metadata": {},
   "source": [
    "### 4b. Detect Motion and Plot\n",
    "Here, code loops through all frames and detects number of pixels whose grayscale change exceeds cutoff per frame.  Motion vector is populated with these values.  In addition to interactive plot options via toolbar, one can also change the plot size by changing h and w in code below (e.g `h,w = 300,2000`)"
   ]
  },
  {
   "cell_type": "code",
   "execution_count": null,
   "metadata": {},
   "outputs": [],
   "source": [
    "Motion = fz.Measure_Motion(video_dict,mt_cutoff,crop=crop,SIGMA=1)  \n",
    "\n",
    "h,w = 300,1000 \n",
    "motion_plot = hv.Curve((np.arange(len(Motion)),Motion),'Frame','Pixel Change').opts(\n",
    "    height=h,width=w,line_width=1,color=\"steelblue\",title=\"Motion Across Session\")\n",
    "motion_plot"
   ]
  },
  {
   "cell_type": "markdown",
   "metadata": {},
   "source": [
    "---\n",
    "# 5. Analyze Session Freezing"
   ]
  },
  {
   "cell_type": "markdown",
   "metadata": {},
   "source": [
    "### 5a. User Selects Freezing Parameters\n",
    "Below user sets 'FreezeThresh', the upper bound for freezing in frame-by-frame pixels changed, and 'MinDuration', the number of frames motion must be below FreezeThresh to begin accruing freezing."
   ]
  },
  {
   "cell_type": "code",
   "execution_count": null,
   "metadata": {},
   "outputs": [],
   "source": [
    "FreezeThresh = 500 \n",
    "MinDuration = 15 "
   ]
  },
  {
   "cell_type": "markdown",
   "metadata": {},
   "source": [
    "### 5b. Measure Freezing and Save\n",
    "Freezing is calculated with cell below.  In addition to interactive plot options with adjacent toolbar, one can also change the plot size by changing h and w in code below (e.g `h,w = 300,2000`)"
   ]
  },
  {
   "cell_type": "code",
   "execution_count": null,
   "metadata": {},
   "outputs": [],
   "source": [
    "%%output size=100\n",
    "\n",
    "Freezing = fz.Measure_Freezing(Motion,FreezeThresh,MinDuration)  \n",
    "fz.SaveData(video_dict,Motion,Freezing,mt_cutoff,FreezeThresh,MinDuration)\n",
    "print('Average Freezing: {x}%'.format(x=np.average(Freezing)))\n",
    "\n",
    "h,w = 300,1000 \n",
    "freezing_plot = hv.Area(Freezing*(Motion.max()/100),'Frame','Motion').opts(\n",
    "    color='lightgray',line_width=0,line_alpha=0)\n",
    "motion_plot = hv.Curve((np.arange(len(Motion)),Motion),'Frame','Motion').opts(\n",
    "    height=h,width=w,line_width=1, \n",
    "    color='steelblue',title=\"Motion Across Session with Freezing Highlighted in Gray\")\n",
    "freezing_plot*motion_plot"
   ]
  },
  {
   "cell_type": "markdown",
   "metadata": {},
   "source": [
    "---\n",
    "# 6. (Optional) Display Section of Video with Motion and Freezing\n",
    "***After analyzing freezing*** a section of the video can be replayed and the animal's state - \"Active/Freezing\" - will be displayed.  \n",
    "\n",
    "'start' is the starting point of video segment, in frames, relative to the start of the analysis (0 if beginning). 'end' is the end point of video segment, in frames. Video can be saved by setting `'save_video' : True`"
   ]
  },
  {
   "cell_type": "code",
   "execution_count": null,
   "metadata": {},
   "outputs": [],
   "source": [
    "display_dict = {\n",
    "    'start' : 0, \n",
    "    'end' : 100, \n",
    "}\n",
    "\n",
    "fz.PlayVideo(video_dict,display_dict,Freezing,mt_cutoff,crop=crop,SIGMA=1)\n"
   ]
  },
  {
   "cell_type": "markdown",
   "metadata": {},
   "source": [
    "---\n",
    "# 7. (Optional) Create Binned Summary Report and Save\n",
    "The code below allows the user to either save a csv containing summary data for user-defined bins (e.g. % time freezing for each minute) or a session-wide average. \n",
    "\n",
    "***If you only want a session avg***, set `bin_dict = None`\n",
    "\n",
    "***If you are not using ROIs***, in the code below, set value of 'region_names' within function to None: `region_names=None`.  Otherwise, keep `region_names=region_names`\n",
    "\n",
    "To specify bins, set bin_dict using the following notation, where start and stop represent time ***in frames***:\n",
    "\n",
    "```\n",
    "bin_dict = {\n",
    "    'BinName1': (start, stop),\n",
    "    'BinName2': (start, stop),\n",
    "    'BinName3': (start, stop),\n",
    "}\n",
    "```"
   ]
  },
  {
   "cell_type": "code",
   "execution_count": null,
   "metadata": {},
   "outputs": [],
   "source": [
    "bin_dict = {\n",
    "    1: (0,60),\n",
    "    2: (60,120),\n",
    "    3: (120,180)\n",
    "}\n",
    "\n",
    "summary = fz.Summarize(video_dict,Motion,Freezing,FreezeThresh,MinDuration,mt_cutoff,bin_dict=bin_dict)\n",
    "summary.to_csv(os.path.splitext(video_dict['fpath'])[0] + '_SummaryStats.csv')\n",
    "summary"
   ]
  }
 ],
 "metadata": {
  "kernelspec": {
   "display_name": "Python 3",
   "language": "python",
   "name": "python3"
  },
  "language_info": {
   "codemirror_mode": {
    "name": "ipython",
    "version": 3
   },
   "file_extension": ".py",
   "mimetype": "text/x-python",
   "name": "python",
   "nbconvert_exporter": "python",
   "pygments_lexer": "ipython3",
   "version": "3.6.7"
  }
 },
 "nbformat": 4,
 "nbformat_minor": 2
}
