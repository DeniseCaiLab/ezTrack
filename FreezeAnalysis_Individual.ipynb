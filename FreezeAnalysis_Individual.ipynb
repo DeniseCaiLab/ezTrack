{
 "cells": [
  {
   "cell_type": "markdown",
   "metadata": {},
   "source": [
    "# Instructions\n",
    "The following code was designed in order to load in and score motion/freezing data from video files. It allows for cropping of the video frame to reduce influence of miniscope/optogenetic cables.  After initally loading in the video, the user is able to crop the video frame by adjusting a single variable.  Motion is then detected by capturing the number of pixels whose frame by frame grayscale change value exceeds a threshold (determined using FreezeAnalysis_Calibration.ipynb).  Freezing is then assessed by calculating when motion drops below a user-defined threshold.  The user is able to visualize raw video, animal motion, and whether an animal is deemed to be freezing in order optimize parameters.  Final output is a csv which provides frame by frame motion and freezing across the session.  Additionally, summary file can be generated which allows user to get motion/freezing for specified time bins.  With the exception of setting the file path and small number of parameters (ie frames per second in video, freezing threshold), user can run through code.  Once parameters are found that work well, batch processing of multiple videos can be performed using FreezeAnalysis_BatchProcess.ipynb.\n",
    "\n",
    "### Package Requirements\n",
    "Please see instructions under repository README for package requirements and install instructions."
   ]
  },
  {
   "cell_type": "markdown",
   "metadata": {},
   "source": [
    "---\n",
    "# 1. Load Necessary Packages\n",
    "The following code loads neccessary packages and need not be changed by the user."
   ]
  },
  {
   "cell_type": "code",
   "execution_count": null,
   "metadata": {},
   "outputs": [],
   "source": [
    "%load_ext autoreload\n",
    "%autoreload 2\n",
    "import os\n",
    "import numpy as np\n",
    "import matplotlib.pyplot as plt\n",
    "import pandas as pd\n",
    "import holoviews as hv\n",
    "import FreezeAnalysis_Functions as fz"
   ]
  },
  {
   "cell_type": "markdown",
   "metadata": {},
   "source": [
    "---\n",
    "# 2. User Sets Directory and File Information\n",
    "Below the user sets the directory file path (path of the folder where the video file is), the file name of the video to be analyzed, the frame rate of the video, the frame on which the analysis is to begin (0 is the first frame), and the last frame to be analyzed (set `'end' : None` if processing entire video).  Additionally, the user defines the names of any regions of interest.  Any number of regions of interst can be used.  If no regions of interest are to be used, set `region_names = None`.\n",
    "***Windows Users:*** Place an 'r' in front directory path (e.g. r\"zp\\Videos\") to avoid mishandling of forward slashes."
   ]
  },
  {
   "cell_type": "code",
   "execution_count": null,
   "metadata": {},
   "outputs": [],
   "source": [
    "video_dict = {\n",
    "    'dpath' : \"/Users/zp/Videos\", # directory containing file\n",
    "    'file' : \"video.mp4\", #filename with extension\n",
    "    'fps' : 30, #frames per second\n",
    "    'start' : 0, #frame at which to start. 0-based\n",
    "    'end' : None #frame at which to end.  set to None if processing whole video.\n",
    "}"
   ]
  },
  {
   "cell_type": "markdown",
   "metadata": {},
   "source": [
    "---\n",
    "# 3. Load Video and Crop Frame if Desired\n",
    "To crop video frame, after running code below, select box selection tool below image (square with a plus sign).  To start drawing region to be included in analyis, double click image.  Double click again to finalize region.  If you decide to change region, it is best to rerun this cell and subsequent steps."
   ]
  },
  {
   "cell_type": "code",
   "execution_count": null,
   "metadata": {},
   "outputs": [],
   "source": [
    "%%output size=100\n",
    "#Select output size if image is too small/large.  Code above must be first line in cell and dictates overall size\n",
    "#of image, where 100 is standard.  stretch_w and stretch_h below allow you to alter relative width to height ratio.\n",
    "\n",
    "#Get full path and first frame\n",
    "image,crop,video_dict=fz.LoadAndCrop(video_dict,cropmethod=\"Box\")\n",
    "image"
   ]
  },
  {
   "cell_type": "markdown",
   "metadata": {},
   "source": [
    "---\n",
    "# 4. Analyze Motion Across Session"
   ]
  },
  {
   "cell_type": "markdown",
   "metadata": {},
   "source": [
    "### 4a. User Sets Parameters for Motion Analysis"
   ]
  },
  {
   "cell_type": "code",
   "execution_count": null,
   "metadata": {},
   "outputs": [],
   "source": [
    "mt_cutoff = 10 #grayscale difference value required for pixel to be counted as changing"
   ]
  },
  {
   "cell_type": "markdown",
   "metadata": {},
   "source": [
    "### 4b. Detect Motion and Plot\n",
    "Here, code loops through all frames and detects number of pixels whose grayscale change exceeds cutoff per frame.  Motion vector is populated with these values.  In addition to interactive plot options via toolbar, one can also change the plot size by changing h and w in code below (e.g `h,w = 300,2000`)"
   ]
  },
  {
   "cell_type": "code",
   "execution_count": null,
   "metadata": {},
   "outputs": [],
   "source": [
    "Motion = fz.Measure_Motion(video_dict,mt_cutoff,crop=crop,SIGMA=1)  #calls function to get motion\n",
    "\n",
    "#Plot motion\n",
    "h,w = 300,1000 #height,width\n",
    "motion_plot = hv.Curve((np.arange(len(Motion)),Motion),'Frame','Pixel Change').opts(\n",
    "    height=h,width=w,line_width=1,color=\"steelblue\",title=\"Motion Across Session\")\n",
    "motion_plot"
   ]
  },
  {
   "cell_type": "markdown",
   "metadata": {},
   "source": [
    "---\n",
    "# 5. Analyze Session Freezing"
   ]
  },
  {
   "cell_type": "markdown",
   "metadata": {},
   "source": [
    "### 5a. User Selects Freezing Parameters"
   ]
  },
  {
   "cell_type": "code",
   "execution_count": null,
   "metadata": {},
   "outputs": [],
   "source": [
    "FreezeThresh = 500 #Upper bound for freezing, in frame-by-frame pixels changed\n",
    "MinDuration = 15 #Number of frames motion must be below threshold to begin accruing freezing"
   ]
  },
  {
   "cell_type": "markdown",
   "metadata": {},
   "source": [
    "### 5b. Measure Freezing and Save\n",
    "Motion vector is populated with these values.  In addition to interactive plot options via toolbar, one can also change the plot size by changing h and w in code below (e.g `h,w = 300,2000`)"
   ]
  },
  {
   "cell_type": "code",
   "execution_count": null,
   "metadata": {},
   "outputs": [],
   "source": [
    "%%output size=100\n",
    "\n",
    "#Calculate Freezing\n",
    "Freezing = fz.Measure_Freezing(Motion,FreezeThresh,MinDuration)  \n",
    "print('Average Freezing: {x}%'.format(x=np.average(Freezing)))\n",
    "fz.SaveData(video_dict,Motion,Freezing,mt_cutoff,FreezeThresh,MinDuration)\n",
    "\n",
    "#Plot Freezing\n",
    "h,w = 300,1000 #height,width\n",
    "freezing_plot = hv.Area(Freezing*(Motion.max()/100),'Frame','Motion').opts(\n",
    "    color='lightgray',line_width=0,line_alpha=0)\n",
    "motion_plot = hv.Curve((np.arange(len(Motion)),Motion),'Frame','Motion').opts(\n",
    "    height=h,width=w,line_width=1, color='steelblue',title=\"Motion Across Session with Freezing Highlighted in Gray\")\n",
    "freezing_plot*motion_plot"
   ]
  },
  {
   "cell_type": "markdown",
   "metadata": {},
   "source": [
    "---\n",
    "# 6. (Optional) Display Section of Video with Motion and Freezing\n",
    "After analyzing freezing a section of the video can be replayed and the animal's state - \"Active/Freezing\" - will be displayed.  "
   ]
  },
  {
   "cell_type": "code",
   "execution_count": null,
   "metadata": {},
   "outputs": [],
   "source": [
    "#Video parameters\n",
    "display_dict = {\n",
    "    'start' : 0, #start point of video segment in frames.  0 if beginning of video.\n",
    "    'end' : 100, #end point of video segment in frames. this is NOT the duration of the segment\n",
    "    'save_video' : False #Option to save video if desired.  Currently will be saved at 20 fps even if video is something else\n",
    "}\n",
    "\n",
    "fz.PlayVideo(video_dict,display_dict,Freezing,mt_cutoff,crop=crop,SIGMA=1)\n"
   ]
  },
  {
   "cell_type": "markdown",
   "metadata": {},
   "source": [
    "---\n",
    "# 7. (Optional) Create Binned Summary Report and Save\n",
    "The code below allows the user to either save a csv containing summary data for user-defined bins (e.g. % time freezing for each minute) or a session-wide average. \n",
    "\n",
    "***If you only want a session avg***, set `bin_dict = None`\n",
    "\n",
    "***If you are not using ROIs***, in the code below, set value of 'region_names' within function to None: `region_names=None`.  Otherwise, keep `region_names=region_names`\n",
    "\n",
    "To specify bins, set bin_dict using the following notation, where start and stop represent time in seconds:\n",
    "\n",
    "```\n",
    "bin_dict = {\n",
    "    'BinName1': (start, stop),\n",
    "    'BinName2': (start, stop),\n",
    "    'BinName3': (start, stop),\n",
    "}\n",
    "```"
   ]
  },
  {
   "cell_type": "code",
   "execution_count": null,
   "metadata": {},
   "outputs": [],
   "source": [
    "bin_dict = {\n",
    "    1: (0,60),\n",
    "    2: (60,120),\n",
    "    3: (120,180)\n",
    "}\n",
    "\n",
    "summary = fz.Summarize(video_dict,Motion,Freezing,FreezeThresh,MinDuration,mt_cutoff,bin_dict=bin_dict)\n",
    "summary.to_csv(os.path.splitext(video_dict['fpath'])[0] + '_SummaryStats.csv')\n",
    "summary"
   ]
  }
 ],
 "metadata": {
  "kernelspec": {
   "display_name": "Python 3",
   "language": "python",
   "name": "python3"
  },
  "language_info": {
   "codemirror_mode": {
    "name": "ipython",
    "version": 3
   },
   "file_extension": ".py",
   "mimetype": "text/x-python",
   "name": "python",
   "nbconvert_exporter": "python",
   "pygments_lexer": "ipython3",
   "version": "3.6.7"
  }
 },
 "nbformat": 4,
 "nbformat_minor": 2
}
